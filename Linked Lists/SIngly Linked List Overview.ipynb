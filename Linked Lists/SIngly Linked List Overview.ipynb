{
 "cells": [
  {
   "cell_type": "markdown",
   "metadata": {},
   "source": [
    "# Singly Linked List Overview"
   ]
  },
  {
   "cell_type": "markdown",
   "metadata": {},
   "source": [
    "* A singly linked list is a collection of nodes that collectively form a linear sequence.\n",
    "* Each node stores a reference to an object that is an element of the sequence, as well as the reference to the next node of the list.\n",
    "* The first and last node of a linked list are known as the **head** and **tail** of the list.\n",
    "\n",
    "\n",
    "* Because the next reference of a node can be viewed as a **link** or **pointer** to another node, the process of traversing a list is also known as **link hopping** or **pointer hopping**.\n",
    "\n",
    "* Each node is represented as a unique object, with that instance storing a reference to its element and a reference to the next node(or None)\n",
    "\n",
    "* An important property of a linked list is that it does not have a predetermined fixed size. It uses space proportionally to its current number of elements.\n",
    "\n",
    "### To insert a new element at the head of the list:\n",
    "* We create a new node\n",
    "* Set its element to the new element\n",
    "* Set its next link to refer to the current head\n",
    "* Set the list's head to point to the new node\n",
    "\n",
    "### To insert a new element at the tail of the list:\n",
    "* We create a new node\n",
    "* Assign its next reference to None\n",
    "* Set the next reference of the tail to point to this new node\n",
    "* Then update the tail reference itself to this new node\n",
    "\n",
    "### Removing an element :\n",
    "* Removing an lement from the **head** of a singly linked list is essentially the reverse operation of inserting a new element at the head.\n",
    "* We cannot easily delete the last node of a singly linked list.\n",
    "* Even if we maintain a tail reference directly to the last node of the list, we must be able to access the node before that last node in order to remove the last node.\n",
    "* But we cannot reach the node before the tail by following next links from the tail.\n",
    "* To Support such operations efficiently, we will need to make our list doubly linked.\n",
    "\n",
    "## Pros and Cons of Singly Linked List\n",
    "\n",
    "### Pros\n",
    "\n",
    "* Linked Lists have constant-time insertions and deletions in any position, in comparison, arrays require O(n) time to do the same thing.\n",
    "\n",
    "* Linked lists can continue to expand without having to specify their size ahead of time\n",
    "\n",
    "### Cons\n",
    "\n",
    "* To access an element in a linked list, you need to take O(k) time to go from the head of the list to the kth element. In contrast, arrays have constant time operations to access elements in an array."
   ]
  },
  {
   "cell_type": "markdown",
   "metadata": {},
   "source": [
    "<hr>"
   ]
  },
  {
   "cell_type": "markdown",
   "metadata": {},
   "source": [
    "## Singly Linked List Implementation"
   ]
  },
  {
   "cell_type": "code",
   "execution_count": 1,
   "metadata": {
    "collapsed": true
   },
   "outputs": [],
   "source": [
    "class Node(object):\n",
    "    \n",
    "    def __init__(self,value):\n",
    "        self.value = value\n",
    "        self.nextnode= None"
   ]
  },
  {
   "cell_type": "code",
   "execution_count": 3,
   "metadata": {
    "collapsed": true
   },
   "outputs": [],
   "source": [
    "a = Node(1)\n",
    "b = Node(2)\n",
    "c = Node(3)"
   ]
  },
  {
   "cell_type": "code",
   "execution_count": 4,
   "metadata": {
    "collapsed": true
   },
   "outputs": [],
   "source": [
    "a.nextnode = b"
   ]
  },
  {
   "cell_type": "code",
   "execution_count": 5,
   "metadata": {
    "collapsed": true
   },
   "outputs": [],
   "source": [
    "b.nextnode = c"
   ]
  },
  {
   "cell_type": "code",
   "execution_count": 6,
   "metadata": {
    "collapsed": false
   },
   "outputs": [
    {
     "data": {
      "text/plain": [
       "<__main__.Node at 0x1a35630>"
      ]
     },
     "execution_count": 6,
     "metadata": {},
     "output_type": "execute_result"
    }
   ],
   "source": [
    "a"
   ]
  },
  {
   "cell_type": "code",
   "execution_count": 7,
   "metadata": {
    "collapsed": false
   },
   "outputs": [
    {
     "data": {
      "text/plain": [
       "1"
      ]
     },
     "execution_count": 7,
     "metadata": {},
     "output_type": "execute_result"
    }
   ],
   "source": [
    "a.value"
   ]
  },
  {
   "cell_type": "code",
   "execution_count": 8,
   "metadata": {
    "collapsed": false
   },
   "outputs": [
    {
     "data": {
      "text/plain": [
       "2"
      ]
     },
     "execution_count": 8,
     "metadata": {},
     "output_type": "execute_result"
    }
   ],
   "source": [
    "b.value"
   ]
  },
  {
   "cell_type": "code",
   "execution_count": null,
   "metadata": {
    "collapsed": true
   },
   "outputs": [],
   "source": []
  }
 ],
 "metadata": {
  "anaconda-cloud": {},
  "kernelspec": {
   "display_name": "Python [conda root]",
   "language": "python",
   "name": "conda-root-py"
  },
  "language_info": {
   "codemirror_mode": {
    "name": "ipython",
    "version": 2
   },
   "file_extension": ".py",
   "mimetype": "text/x-python",
   "name": "python",
   "nbconvert_exporter": "python",
   "pygments_lexer": "ipython2",
   "version": "2.7.12"
  }
 },
 "nbformat": 4,
 "nbformat_minor": 1
}
